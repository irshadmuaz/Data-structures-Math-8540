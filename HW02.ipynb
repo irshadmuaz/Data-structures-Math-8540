{
 "cells": [
  {
   "cell_type": "markdown",
   "metadata": {},
   "source": [
    "# Homework 02\n",
    "\n",
    "Please fill in: MUAZ AHMAD"
   ]
  },
  {
   "cell_type": "markdown",
   "metadata": {},
   "source": [
    "The goal of this homework is to understand iterative and recursive algorithms and complexity. We are using Pell Numbers as an example. They are defined as:\n",
    "\n",
    "  $$ P_n = \\begin{cases} 0 & n=0 \\\\ 1 & n=1 \\\\ P_{n-2} + 2P_{n-1} & \\text{else} \\end{cases} $$"
   ]
  },
  {
   "cell_type": "markdown",
   "metadata": {},
   "source": [
    "## Question 1\n",
    "\n",
    "Write pell_recursive(n) that returns the n-th Pell number as a recursive function using the definition above."
   ]
  },
  {
   "cell_type": "code",
   "execution_count": 1,
   "metadata": {},
   "outputs": [
    {
     "name": "stdout",
     "output_type": "stream",
     "text": [
      "[0, 1, 2, 5, 12, 29, 70, 169, 408, 985, 2378, 5741, 13860, 33461, 80782, 195025, 470832, 1136689, 2744210, 6625109]\n"
     ]
    }
   ],
   "source": [
    "def pell_recursive(n):\n",
    "    if(n < 3):\n",
    "        return n\n",
    "    return 2* pell_recursive(n-1) + pell_recursive(n-2)\n",
    "        \n",
    "    \n",
    "\n",
    "print ([pell_recursive(n) for n in range(0,20)])"
   ]
  },
  {
   "cell_type": "markdown",
   "metadata": {},
   "source": [
    "### Question 2\n",
    "Write a function pell_recursive_cost(n) that returns the total number of function calls pell_recursive() will do for a given n (it should be 1 for n=1 and 3 for n=2). What sequence is that? What is the complexity of pell_recursive(n)?"
   ]
  },
  {
   "cell_type": "code",
   "execution_count": 11,
   "metadata": {},
   "outputs": [
    {
     "name": "stdout",
     "output_type": "stream",
     "text": [
      "[1, 1, 3, 5, 9, 15, 25, 41, 67, 109, 177, 287, 465, 753, 1219, 1973, 3193, 5167, 8361, 13529]\n"
     ]
    }
   ],
   "source": [
    "\n",
    "def pell_recursive_cost(n):\n",
    "    if n <=1:\n",
    "        return 1\n",
    "    return 1 + pell_recursive_cost(n-1) + pell_recursive_cost(n-2)\n",
    "    \n",
    "\n",
    "#print (pell_recursive_cost(3))\n",
    "print ([pell_recursive_cost(n) for n in range(0,20)])\n",
    "\n",
    "# this sequence is known as the fibonnaci sequence plus one  \n",
    "# complexity is 2^(n)  "
   ]
  },
  {
   "cell_type": "markdown",
   "metadata": {},
   "source": [
    "The sequence is known as: \n",
    "\n",
    "  $$ P_n = \\begin{cases} 1 & n=0  \\\\ P_{n-1} + P_{n-2} + 1 & \\text{else} \\end{cases} $$\n",
    "  complexity"
   ]
  },
  {
   "cell_type": "markdown",
   "metadata": {},
   "source": [
    "## Question 3\n",
    "Write a function pell_iterative(n) that returns the n-th Pell number using an iterative approach (that does not recompute P_2 more than once when computing P_5 for example). Check your result."
   ]
  },
  {
   "cell_type": "code",
   "execution_count": 3,
   "metadata": {},
   "outputs": [
    {
     "name": "stdout",
     "output_type": "stream",
     "text": [
      "[0, 1, 2, 5, 12, 29, 70, 169, 408, 985, 2378, 5741, 13860, 33461, 80782, 195025, 470832, 1136689, 2744210, 6625109]\n"
     ]
    }
   ],
   "source": [
    "def pell_iterative(n):\n",
    "    if(n < 3):\n",
    "        return n;\n",
    "    a = 1\n",
    "    b = 2\n",
    "    for i in range(3,n+1):\n",
    "        c = 2*b + a\n",
    "        a = b\n",
    "        b = c\n",
    "    return b\n",
    "\n",
    "print ([pell_iterative(n) for n in range(0,20)])"
   ]
  },
  {
   "cell_type": "markdown",
   "metadata": {},
   "source": [
    "## Question 4\n",
    "Write a function pell_iterative_cost(n) that returns the number of additions and multiplications done to compute pell_iterative(n). What is the complexity of pell_iterative(n)?"
   ]
  },
  {
   "cell_type": "code",
   "execution_count": 4,
   "metadata": {},
   "outputs": [
    {
     "name": "stdout",
     "output_type": "stream",
     "text": [
      "[0, 0, 0, 2, 4, 6, 8, 10, 12, 14, 16, 18, 20, 22, 24, 26, 28, 30, 32, 34]\n"
     ]
    }
   ],
   "source": [
    "def pell_iterative_cost(n):\n",
    "    c=0\n",
    "    for i in range(2,n):\n",
    "        c = c + 2\n",
    "    return c # replace this\n",
    "\n",
    "print ([pell_iterative_cost(n) for n in range(0,20)])\n",
    "\n",
    "# complexity is: _____O(n)___"
   ]
  },
  {
   "cell_type": "markdown",
   "metadata": {},
   "source": [
    "## Question 5\n",
    "Look up Pell number on wikipedia and find the direct formula and implement it as pell_direct(n) (you should round your answer using round()). Find the smallest n where the direct formula is no longer accurate. Explain why."
   ]
  },
  {
   "cell_type": "code",
   "execution_count": 5,
   "metadata": {},
   "outputs": [
    {
     "name": "stdout",
     "output_type": "stream",
     "text": [
      "[0, 1, 2, 5, 12, 29, 70, 169, 408, 985, 2378, 5741, 13860, 33461, 80782, 195025, 470832, 1136689, 2744210, 6625109]\n"
     ]
    }
   ],
   "source": [
    "import math # needed for math.sqrt()\n",
    "\n",
    "def pell_direct(n):\n",
    "    \n",
    "  \n",
    "    x = (math.pow((1.0+math.sqrt(2)),n) - math.pow((1.0-math.sqrt(2)),n))/(2*math.sqrt(2))\n",
    "    return round(x) # replace this\n",
    "\n",
    "print ([ pell_direct(n) for n in range (0,20) ])\n"
   ]
  },
  {
   "cell_type": "code",
   "execution_count": 119,
   "metadata": {},
   "outputs": [
    {
     "name": "stdout",
     "output_type": "stream",
     "text": [
      "723573111879670\n",
      "723573111879672\n"
     ]
    }
   ],
   "source": [
    "# somehow compare pell_direct(n) and pell_iterative(n) and find smallest n where they differ\n",
    "\n",
    "a = pell_direct(40)\n",
    "\n",
    "b = pell_iterative(40)\n",
    "\n",
    "print (a)\n",
    "print (b)\n",
    "# what is this n? _40_______"
   ]
  },
  {
   "cell_type": "markdown",
   "metadata": {},
   "source": [
    "Why does this happen for this n?"
   ]
  },
  {
   "cell_type": "code",
   "execution_count": null,
   "metadata": {
    "collapsed": true
   },
   "outputs": [],
   "source": [
    "# explain: \n",
    "# _since the direct formula is an approximation, the larger the values get, the farther away the accuracy drifts________"
   ]
  },
  {
   "cell_type": "markdown",
   "metadata": {},
   "source": [
    "## Question 6\n",
    "Observe the time it takes to compute $P_{10}, P_{20}, P_{30}$. (There is nothing for you to do here except running the following block)"
   ]
  },
  {
   "cell_type": "code",
   "execution_count": 6,
   "metadata": {},
   "outputs": [
    {
     "name": "stdout",
     "output_type": "stream",
     "text": [
      "for n = 10\n",
      "10000 loops, best of 3: 30.9 µs per loop\n",
      "The slowest run took 5.82 times longer than the fastest. This could mean that an intermediate result is being cached.\n",
      "100000 loops, best of 3: 2.32 µs per loop\n",
      "The slowest run took 12.84 times longer than the fastest. This could mean that an intermediate result is being cached.\n",
      "100000 loops, best of 3: 3.55 µs per loop\n",
      "for n = 20\n",
      "100 loops, best of 3: 4.07 ms per loop\n",
      "100000 loops, best of 3: 4.02 µs per loop\n",
      "The slowest run took 14.06 times longer than the fastest. This could mean that an intermediate result is being cached.\n",
      "100000 loops, best of 3: 3.55 µs per loop\n",
      "for n = 30\n",
      "1 loop, best of 3: 470 ms per loop\n",
      "100000 loops, best of 3: 6.01 µs per loop\n",
      "The slowest run took 13.66 times longer than the fastest. This could mean that an intermediate result is being cached.\n",
      "100000 loops, best of 3: 3.59 µs per loop\n"
     ]
    }
   ],
   "source": [
    "for n in [10,20,30]:\n",
    "    print (\"for n =\",n)\n",
    "    %timeit pell_recursive(n)\n",
    "    %timeit pell_iterative(n)\n",
    "    %timeit pell_direct(n)"
   ]
  },
  {
   "cell_type": "markdown",
   "metadata": {},
   "source": [
    "## Question 7\n",
    "Finish the implementation of binary search."
   ]
  },
  {
   "cell_type": "code",
   "execution_count": 8,
   "metadata": {
    "collapsed": true
   },
   "outputs": [],
   "source": [
    "def binary_search(arr, x, imin, imax):\n",
    "    if imin>imax:\n",
    "        return -1\n",
    "\n",
    "    m = (imin+imax)//2\n",
    "    \n",
    "    if(arr[m] == x):\n",
    "        return m\n",
    "    if(arr[m] > x):\n",
    "        return binary_search(arr,x,imin,m-1)\n",
    "    else:\n",
    "        return binary_search(arr,x,m+1,imax)\n",
    "    \n",
    "def find(arr, x):\n",
    "    \"\"\" return index i so that arr[i]==x or -1 if x is not in arr[imin:imax]\"\"\"\n",
    "    return binary_search(arr,x,0,len(arr)-1)\n"
   ]
  },
  {
   "cell_type": "code",
   "execution_count": 9,
   "metadata": {},
   "outputs": [
    {
     "name": "stdout",
     "output_type": "stream",
     "text": [
      "True\n",
      "True\n",
      "True\n",
      "True\n",
      "True\n",
      "True\n"
     ]
    }
   ],
   "source": [
    "# checks, make sure they all return true\n",
    "print (3==find([1,3,7,8,11,17],8))\n",
    "print (0==find([1,3,7,8,11],1))\n",
    "print (0==find([1],1))\n",
    "\n",
    "print (-1==find([1,3,7,8,11],4))\n",
    "print (-1==find([],1))\n",
    "print (-1==find([3],1))"
   ]
  },
  {
   "cell_type": "code",
   "execution_count": 10,
   "metadata": {},
   "outputs": [
    {
     "name": "stdout",
     "output_type": "stream",
     "text": [
      "-1\n"
     ]
    }
   ],
   "source": [
    "# Why does the algorithm not find the solution in the following example?\n",
    "print (find([4,5,3],3))\n"
   ]
  },
  {
   "cell_type": "code",
   "execution_count": 16,
   "metadata": {
    "collapsed": true
   },
   "outputs": [],
   "source": [
    "# Your answer here:\n",
    "# This is because the array being searched is not sorted and the binary only works on an ascending sorted array"
   ]
  },
  {
   "cell_type": "code",
   "execution_count": null,
   "metadata": {
    "collapsed": true
   },
   "outputs": [],
   "source": []
  }
 ],
 "metadata": {
  "kernelspec": {
   "display_name": "Python 3",
   "language": "python",
   "name": "python3"
  },
  "language_info": {
   "codemirror_mode": {
    "name": "ipython",
    "version": 3
   },
   "file_extension": ".py",
   "mimetype": "text/x-python",
   "name": "python",
   "nbconvert_exporter": "python",
   "pygments_lexer": "ipython3",
   "version": "3.6.0"
  }
 },
 "nbformat": 4,
 "nbformat_minor": 1
}
