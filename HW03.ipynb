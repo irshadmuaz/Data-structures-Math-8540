{
 "cells": [
  {
   "cell_type": "markdown",
   "metadata": {},
   "source": [
    "# Homework 03\n",
    "\n",
    "Please fill in: Muaz Ahmad\n"
   ]
  },
  {
   "cell_type": "markdown",
   "metadata": {},
   "source": [
    "## Question 1\n",
    "Implement selection sort:"
   ]
  },
  {
   "cell_type": "code",
   "execution_count": 55,
   "metadata": {},
   "outputs": [],
   "source": [
    "def selection_sort(arr):\n",
    "    \"\"\" sort the given array in-place (by swapping elements) using selection sort and return it\"\"\"\n",
    "    n = len(arr)\n",
    "    if len(arr) == 0:\n",
    "        return arr\n",
    "    for i in range(n):\n",
    "        mn = i\n",
    "        for j in range (i+1, n):\n",
    "            if arr[mn] > arr[j]:\n",
    "                mn = j\n",
    "        temp = arr[i]\n",
    "        arr[i] = arr[mn]\n",
    "        arr[mn] = temp\n",
    "        \n",
    "    return arr"
   ]
  },
  {
   "cell_type": "code",
   "execution_count": 56,
   "metadata": {},
   "outputs": [
    {
     "name": "stdout",
     "output_type": "stream",
     "text": [
      "[5] -> [5]\n",
      "[1, 7, 2, 8, 7] -> [1, 2, 7, 7, 8]\n",
      "[4, 3, 2, 1] -> [1, 2, 3, 4]\n",
      "[1, 2, 3, 4] -> [1, 2, 3, 4]\n",
      "[] -> []\n"
     ]
    }
   ],
   "source": [
    "# check your implementation:\n",
    "a=[5]\n",
    "print (a, end=\" -> \")\n",
    "print (selection_sort(a))\n",
    "\n",
    "a=[1,7,2,8,7]\n",
    "print (a, end=\" -> \")\n",
    "print (selection_sort(a))\n",
    "\n",
    "a=[4,3,2,1]\n",
    "print (a, end=\" -> \")\n",
    "print (selection_sort(a))\n",
    "\n",
    "a=[1,2,3,4]\n",
    "print (a, end=\" -> \")\n",
    "print (selection_sort(a))\n",
    "\n",
    "a=[]\n",
    "print (a, end=\" -> \")\n",
    "print (selection_sort(a))"
   ]
  },
  {
   "cell_type": "markdown",
   "metadata": {},
   "source": [
    "## Question 2\n",
    "finish the implementation of merge sort."
   ]
  },
  {
   "cell_type": "code",
   "execution_count": 59,
   "metadata": {
    "collapsed": true
   },
   "outputs": [],
   "source": [
    "def merge(left, right):\n",
    "    # merge the two arrays into a sorted array assuming\n",
    "    # left and right are already sorted individually\n",
    "    nl = len(left)\n",
    "    nr = len(right)\n",
    "    i = 0\n",
    "    j = 0\n",
    "    result = []\n",
    "    while i < nl and j < nr :\n",
    "        if left[i] <= right[j]:\n",
    "            result.append(left[i])\n",
    "            i = i+1\n",
    "        else:\n",
    "            result.append(right[j])\n",
    "            j = j+ 1\n",
    "    while(i < nl):\n",
    "        result.append(left[i])\n",
    "        i = i + 1\n",
    "    while(j < nr):\n",
    "        result.append(right[j])\n",
    "        j = j + 1\n",
    "    return result\n",
    "                \n",
    "def merge_sort(arr):\n",
    "    # sort recursively using merge-sort\n",
    "    if len(arr)<2:\n",
    "        return arr\n",
    "    left = []\n",
    "    right = []\n",
    "    mid = len(arr)//2\n",
    "    for i in range (0,mid):\n",
    "        left.append(arr[i])\n",
    "    for i in range (mid,len(arr)):\n",
    "        right.append(arr[i])\n",
    "    \n",
    "    l = merge_sort(left)\n",
    "    r = merge_sort(right)\n",
    "    arr = merge(l,r)\n",
    "    return arr"
   ]
  },
  {
   "cell_type": "code",
   "execution_count": 60,
   "metadata": {},
   "outputs": [
    {
     "name": "stdout",
     "output_type": "stream",
     "text": [
      "[5] -> [5]\n",
      "[1, 7, 2, 8, 7] -> [1, 2, 7, 7, 8]\n",
      "[4, 3, 2, 1] -> [1, 2, 3, 4]\n",
      "[1, 2, 3, 4] -> [1, 2, 3, 4]\n",
      "[] -> []\n"
     ]
    }
   ],
   "source": [
    "# check your implementation:\n",
    "a=[5]\n",
    "print (a, end=\" -> \")\n",
    "print (merge_sort(a))\n",
    "\n",
    "a=[1,7,2,8,7]\n",
    "print (a, end=\" -> \")\n",
    "print (merge_sort(a))\n",
    "\n",
    "a=[4,3,2,1]\n",
    "print (a, end=\" -> \")\n",
    "print (merge_sort(a))\n",
    "\n",
    "a=[1,2,3,4]\n",
    "print (a, end=\" -> \")\n",
    "print (merge_sort(a))\n",
    "\n",
    "a=[]\n",
    "print (a, end=\" -> \")\n",
    "print (merge_sort(a))"
   ]
  }
 ],
 "metadata": {
  "kernelspec": {
   "display_name": "Python 3",
   "language": "python",
   "name": "python3"
  },
  "language_info": {
   "codemirror_mode": {
    "name": "ipython",
    "version": 3
   },
   "file_extension": ".py",
   "mimetype": "text/x-python",
   "name": "python",
   "nbconvert_exporter": "python",
   "pygments_lexer": "ipython3",
   "version": "3.6.0"
  },
  "name": "HW03.ipynb"
 },
 "nbformat": 4,
 "nbformat_minor": 1
}
