{
 "cells": [
  {
   "cell_type": "markdown",
   "metadata": {},
   "source": [
    "# Homework 09\n",
    "\n",
    "name : ____"
   ]
  },
  {
   "cell_type": "markdown",
   "metadata": {},
   "source": [
    "this is all old stuff:"
   ]
  },
  {
   "cell_type": "code",
   "execution_count": null,
   "metadata": {
    "collapsed": true
   },
   "outputs": [],
   "source": [
    "%matplotlib inline\n",
    "import matplotlib.pyplot as plt\n",
    "from pylab import rcParams"
   ]
  },
  {
   "cell_type": "code",
   "execution_count": null,
   "metadata": {
    "collapsed": true
   },
   "outputs": [],
   "source": [
    "\n",
    "class TreeNode(object):\n",
    "    def __init__(self, data, left_child = None, right_child = None):\n",
    "        self.data = data\n",
    "        self.left = left_child\n",
    "        self.right =right_child\n",
    "    \n",
    "    def traverse_infix(self, result = None):\n",
    "        if result == None:\n",
    "            result = []\n",
    "            \n",
    "        if self.left:\n",
    "            self.left.traverse_infix(result)\n",
    "            \n",
    "        result.append(self.data)\n",
    "        \n",
    "        if self.right:\n",
    "            self.right.traverse_infix(result)\n",
    "            \n",
    "        return result"
   ]
  },
  {
   "cell_type": "code",
   "execution_count": null,
   "metadata": {
    "collapsed": true
   },
   "outputs": [],
   "source": [
    "# create a graphical representation of a binary tree (plot_tree uses plot_node)\n",
    "def plot_node(node, level = 1, posx = 0, posy = 0):\n",
    "    \n",
    "    width = 2000.0 * (0.5**(level))\n",
    "    plt.text(posx, posy, str(node.data), horizontalalignment='center',fontsize=10)\n",
    "    \n",
    "    \n",
    "    if node.left:\n",
    "        px = [posx, posx-width]\n",
    "        py = [posy-2, posy-15]\n",
    "        plt.plot(px,py,'b-',hold=True)\n",
    "        plot_node(node.left, level+1, posx-width, posy-20)\n",
    "    \n",
    "    if node.right:\n",
    "        plot_node(node.right, level+1, posx+width, posy-20)\n",
    "        px = [posx, posx+width]\n",
    "        py = [posy-2, posy-15]\n",
    "        plt.plot(px,py,'b-',hold=True)\n",
    "\n",
    "def plot_tree(node, figsize=(10,6)):\n",
    "    rcParams['figure.figsize'] = figsize\n",
    "    fig, ax = plt.subplots()\n",
    "    ax.axis('off')\n",
    "    plot_node(node)\n",
    "    plt.show()\n"
   ]
  },
  {
   "cell_type": "markdown",
   "metadata": {},
   "source": [
    "## A Binary Search Tree"
   ]
  },
  {
   "cell_type": "code",
   "execution_count": null,
   "metadata": {},
   "outputs": [],
   "source": [
    "class BST(object):\n",
    "    def __init__(self):\n",
    "        self.tree = None\n",
    "    \n",
    "    def _find_node(self, node, obj):\n",
    "        if node == None:\n",
    "            return None\n",
    "        if node.data == obj:\n",
    "            return node\n",
    "        if obj < node.data:\n",
    "            return self._find_node(node.left, obj)\n",
    "        else: # so obj > node.data\n",
    "            return self._find_node(node.right, obj)\n",
    "    \n",
    "    def is_element(self, obj):\n",
    "        \"\"\" Returns true if obj is contained in the BST \"\"\"\n",
    "        node = self._find_node(self.tree, obj)\n",
    "        return node != None\n",
    "\n",
    "    def _insert(self, node, obj):\n",
    "        if obj < node.data:\n",
    "            if node.left:\n",
    "                self._insert(node.left, obj)\n",
    "            else:\n",
    "                node.left = TreeNode(obj)\n",
    "        elif obj > node.data:\n",
    "            if node.right:\n",
    "                self._insert(node.right, obj)\n",
    "            else:\n",
    "                node.right = TreeNode(obj)\n",
    "        # do nothing if equal\n",
    "    \n",
    "    def insert(self, obj):\n",
    "        \"\"\" insert a new obj into the BST \"\"\"\n",
    "        if self.tree == None:\n",
    "            self.tree = TreeNode(obj)\n",
    "        else:\n",
    "            self._insert(self.tree, obj)\n",
    "        \n",
    "    def _replace_child(self, node, old, new):\n",
    "        if node==None:\n",
    "            self.tree = new\n",
    "        elif node.left == old:\n",
    "            node.left = new\n",
    "        elif node.right == old:\n",
    "            node.right = new\n",
    "        else:\n",
    "            assert(false)\n",
    "    \n",
    "    def _delete_node(self, parent, node, obj):\n",
    "        if node == None:\n",
    "            return\n",
    "        if obj < node.data:\n",
    "            # traverse left\n",
    "            self._delete_node(node,node.left, obj)\n",
    "        elif obj > node.data:\n",
    "            # traverse right\n",
    "            self._delete_node(node,node.right, obj)\n",
    "        elif node.data == obj:\n",
    "            if node.left == None:\n",
    "                # no left child, so replace node by its right child\n",
    "                self._replace_child(parent, node, node.right)\n",
    "            elif node.right == None:\n",
    "                # no right child, so replace node by its left child\n",
    "                self._replace_child(parent, node, node.left)\n",
    "            else: # node has two children:\n",
    "                \n",
    "                # find predecessor and replace node.data with it.\n",
    "                # Then replace the predecessor by its left child.\n",
    "                # TODO\n",
    "                pass\n",
    "    \n",
    "    def delete(self, obj):\n",
    "        \"\"\" delete obj from the BST if it is contained \"\"\"\n",
    "        if self.tree == None:\n",
    "            return\n",
    "        self._delete_node(None, self.tree, obj)"
   ]
  },
  {
   "cell_type": "code",
   "execution_count": null,
   "metadata": {},
   "outputs": [],
   "source": [
    "people1 = ['Bob','Alice','Doug','Kathy','Queen','Carol','Irene','Tom',\n",
    "           'Peter','Wanda','Yaakov', 'Luis','Zandra','Ronald','Mabel','Ursala','Eve',\n",
    "           'Frank','Ginger','Norm','Sarah','Jeff','Vince','Howard',\n",
    "           'Oprah']\n",
    "\n",
    "bst1 = BST()\n",
    "for p in people1:\n",
    "    bst1.insert(p)\n",
    "\n",
    "print (bst1.tree.traverse_infix())\n",
    "\n",
    "plot_tree(bst1.tree, figsize=(16,10))"
   ]
  },
  {
   "cell_type": "markdown",
   "metadata": {},
   "source": [
    "## Question 1\n",
    "finish the routine that prints the height of a BST (a tree with a single element has height 0):"
   ]
  },
  {
   "cell_type": "code",
   "execution_count": null,
   "metadata": {},
   "outputs": [],
   "source": [
    "\n",
    "print (bst1.height())\n",
    "\n",
    "b=BST()\n",
    "b.insert(\"hello\")\n",
    "print (b.height())\n",
    "b.insert(\"world\")\n",
    "print (b.height())"
   ]
  },
  {
   "cell_type": "markdown",
   "metadata": {},
   "source": [
    "## Question 2\n",
    "What is the typical depth of a tree with n random elements? For values of n between 1 and 1000, create a BST with random integers (choose random.randint(0,1000)) and record the height that this BST has.\n",
    "Now create a plot with n on the x axis and three lines: 1) the height you just computed, 2) the minimum height a BST with n items can have, 3) like 2) but 2.5 time deeper (see lecture)"
   ]
  },
  {
   "cell_type": "code",
   "execution_count": null,
   "metadata": {},
   "outputs": [],
   "source": [
    "import random\n",
    "import math\n",
    "\n",
    "# ...\n",
    "\n",
    "\n",
    "\n"
   ]
  },
  {
   "cell_type": "markdown",
   "metadata": {},
   "source": [
    "## Question 3:\n",
    "finish the implementation of BST.delete above and then test it here"
   ]
  },
  {
   "cell_type": "code",
   "execution_count": null,
   "metadata": {},
   "outputs": [],
   "source": [
    "def make_tree():\n",
    "    people3 = ['Doug','Bernie','Alice','Kathy','Tom','Carol', 'Bob']\n",
    "    bst = BST()\n",
    "    for p in people3:\n",
    "        bst.insert(p)\n",
    "    return bst\n",
    "\n",
    "bst3 = make_tree()\n",
    "\n",
    "print (bst3.tree.traverse_infix())\n",
    "plot_tree(bst3.tree)\n",
    "\n",
    "# no child:\n",
    "bst3.delete('Alice')\n",
    "\n",
    "# only right child:\n",
    "bst3.delete('Kathy')\n",
    "\n",
    "#only left child:\n",
    "bst3.delete('Carol')\n",
    "\n",
    "# this should have worked correctly:\n",
    "print (\"without Alice, Kathy, Carol:\")\n",
    "print (bst3.tree.traverse_infix())\n",
    "plot_tree(bst3.tree)\n",
    "\n",
    "\n",
    "# now test two children:\n",
    "bst3 = make_tree()\n",
    "bst3.insert(\"Brendon\")\n",
    "bst3.insert(\"Beth\")\n",
    "assert bst3.is_element('Doug') == True\n",
    "print (\"Now we remove Doug:\")\n",
    "bst3.delete('Doug')\n",
    "plot_tree(bst3.tree)\n",
    "\n",
    "# check that Doug is gone and others are still here:\n",
    "assert bst3.is_element('Doug') == False\n",
    "assert bst3.is_element('Bob') == True\n",
    "assert bst3.is_element('Brendon') == True\n",
    "assert bst3.is_element('Beth') == True\n",
    "assert bst3.is_element('Carol') == True\n",
    "assert bst3.is_element('Frank') == False\n"
   ]
  },
  {
   "cell_type": "code",
   "execution_count": null,
   "metadata": {
    "collapsed": true
   },
   "outputs": [],
   "source": []
  }
 ],
 "metadata": {
  "kernelspec": {
   "display_name": "Python 3",
   "language": "python",
   "name": "python3"
  },
  "language_info": {
   "codemirror_mode": {
    "name": "ipython",
    "version": 3
   },
   "file_extension": ".py",
   "mimetype": "text/x-python",
   "name": "python",
   "nbconvert_exporter": "python",
   "pygments_lexer": "ipython3",
   "version": "3.6.0"
  },
  "name": "HW09.ipynb"
 },
 "nbformat": 4,
 "nbformat_minor": 1
}
