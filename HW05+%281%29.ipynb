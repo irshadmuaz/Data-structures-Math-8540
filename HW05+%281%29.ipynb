{
 "cells": [
  {
   "cell_type": "markdown",
   "metadata": {},
   "source": [
    "# HW05 - Exploring Trees/Graphs\n",
    "\n",
    "YOUR NAME: Muaz Ahmad"
   ]
  },
  {
   "cell_type": "code",
   "execution_count": 1,
   "metadata": {},
   "outputs": [
    {
     "name": "stdout",
     "output_type": "stream",
     "text": [
      "T has 25 edges\n",
      "T has 26 vertices\n",
      "{'Norm', 'Yaakov', 'Jeff', 'Peter', 'Vince', 'Mabel', 'Ursala', 'Bob', 'Sarah', 'Ginger', 'Queen', 'Irene', 'Zandra', 'Kathy', 'Doug', 'Ronald', 'Howard', 'Frank', 'Wanda', 'Luis', 'Alice', 'Xanthia', 'Oprah', 'Carol', 'Tom', 'Eve'}\n"
     ]
    }
   ],
   "source": [
    "# here is a list of edges:\n",
    "T = [('Bob','Eve'),('Alice','Carol'),('Eve','Frank'),('Alice','Doug'),('Frank','Ginger'),\\\n",
    "         ('Eve','Howard'),('Carol','Irene'),('Frank','Jeff'),('Doug','Kathy'),('Bob','Luis'),\\\n",
    "         ('Alice','Bob'),('Bob','Mabel'),('Ginger','Norm'),('Howard','Oprah'),('Carol','Peter'),\\\n",
    "         ('Kathy','Queen'),('Mabel','Ursala'),('Luis','Ronald'),('Ginger','Sarah'),('Irene','Tom'),\\\n",
    "         ('Jeff','Vince'),('Peter','Wanda'),('Oprah','Xanthia'),('Norm','Yaakov'),('Luis','Zandra')]\n",
    "\n",
    "print ('T has',len(T),'edges')\n",
    "vertices = set()\n",
    "for edge in T:\n",
    "    s,t = edge\n",
    "    vertices.add(s)\n",
    "    vertices.add(t)\n",
    "print ('T has',len(vertices),'vertices')\n",
    "print (vertices)"
   ]
  },
  {
   "cell_type": "markdown",
   "metadata": {},
   "source": [
    "So this could be a tree. Now lets compute the number of parents for each vertex. The result confirms that we indeed have a tree and that the root is Alice (right?). Yes Alice is the root because it has no parent and all vertices have a path from Alice"
   ]
  },
  {
   "cell_type": "code",
   "execution_count": 2,
   "metadata": {},
   "outputs": [
    {
     "name": "stdout",
     "output_type": "stream",
     "text": [
      "{'Norm': 1, 'Yaakov': 1, 'Jeff': 1, 'Peter': 1, 'Vince': 1, 'Mabel': 1, 'Ursala': 1, 'Bob': 1, 'Sarah': 1, 'Ginger': 1, 'Queen': 1, 'Irene': 1, 'Zandra': 1, 'Kathy': 1, 'Doug': 1, 'Ronald': 1, 'Howard': 1, 'Frank': 1, 'Wanda': 1, 'Luis': 1, 'Alice': 0, 'Xanthia': 1, 'Oprah': 1, 'Carol': 1, 'Tom': 1, 'Eve': 1}\n"
     ]
    }
   ],
   "source": [
    "np = {}\n",
    "for v in vertices:\n",
    "    np[v] = 0\n",
    "for parent,child in T:\n",
    "    np[child] += 1\n",
    "print (np)"
   ]
  },
  {
   "cell_type": "markdown",
   "metadata": {},
   "source": [
    "We now construct a dictionary of pairs (p,c) where p is the parent of the list of children c"
   ]
  },
  {
   "cell_type": "code",
   "execution_count": 3,
   "metadata": {},
   "outputs": [
    {
     "name": "stdout",
     "output_type": "stream",
     "text": [
      "Norm ['Yaakov']\n",
      "Yaakov []\n",
      "Jeff ['Vince']\n",
      "Peter ['Wanda']\n",
      "Vince []\n",
      "Mabel ['Ursala']\n",
      "Ursala []\n",
      "Bob ['Eve', 'Luis', 'Mabel']\n",
      "Sarah []\n",
      "Ginger ['Norm', 'Sarah']\n",
      "Queen []\n",
      "Irene ['Tom']\n",
      "Zandra []\n",
      "Kathy ['Queen']\n",
      "Doug ['Kathy']\n",
      "Ronald []\n",
      "Howard ['Oprah']\n",
      "Frank ['Ginger', 'Jeff']\n",
      "Wanda []\n",
      "Luis ['Ronald', 'Zandra']\n",
      "Alice ['Carol', 'Doug', 'Bob']\n",
      "Xanthia []\n",
      "Oprah ['Xanthia']\n",
      "Carol ['Irene', 'Peter']\n",
      "Tom []\n",
      "Eve ['Frank', 'Howard']\n",
      "{'Norm': ['Yaakov'], 'Yaakov': [], 'Jeff': ['Vince'], 'Peter': ['Wanda'], 'Vince': [], 'Mabel': ['Ursala'], 'Ursala': [], 'Bob': ['Eve', 'Luis', 'Mabel'], 'Sarah': [], 'Ginger': ['Norm', 'Sarah'], 'Queen': [], 'Irene': ['Tom'], 'Zandra': [], 'Kathy': ['Queen'], 'Doug': ['Kathy'], 'Ronald': [], 'Howard': ['Oprah'], 'Frank': ['Ginger', 'Jeff'], 'Wanda': [], 'Luis': ['Ronald', 'Zandra'], 'Alice': ['Carol', 'Doug', 'Bob'], 'Xanthia': [], 'Oprah': ['Xanthia'], 'Carol': ['Irene', 'Peter'], 'Tom': [], 'Eve': ['Frank', 'Howard']}\n"
     ]
    }
   ],
   "source": [
    "family_tree = {}\n",
    "for v in vertices:\n",
    "    family_tree[v] = []\n",
    "for p,c in T:\n",
    "    family_tree[p].append(c)\n",
    "for p in family_tree:\n",
    "    print (p,family_tree[p])\n",
    "print (family_tree)"
   ]
  },
  {
   "cell_type": "code",
   "execution_count": 4,
   "metadata": {},
   "outputs": [
    {
     "name": "stdout",
     "output_type": "stream",
     "text": [
      "Hello!Hello!Hello!Hello!Hello!\n"
     ]
    }
   ],
   "source": [
    "print (5*\"Hello!\")\n"
   ]
  },
  {
   "cell_type": "code",
   "execution_count": 5,
   "metadata": {},
   "outputs": [
    {
     "name": "stdout",
     "output_type": "stream",
     "text": [
      " Alice\n",
      "   Carol\n",
      "     Irene\n",
      "       Tom\n",
      "     Peter\n",
      "       Wanda\n",
      "   Doug\n",
      "     Kathy\n",
      "       Queen\n",
      "   Bob\n",
      "     Eve\n",
      "       Frank\n",
      "         Ginger\n",
      "           Norm\n",
      "             Yaakov\n",
      "           Sarah\n",
      "         Jeff\n",
      "           Vince\n",
      "       Howard\n",
      "         Oprah\n",
      "           Xanthia\n",
      "     Luis\n",
      "       Ronald\n",
      "       Zandra\n",
      "     Mabel\n",
      "       Ursala\n"
     ]
    }
   ],
   "source": [
    "# A recursive Depth-First traversal of a tree defined by a dictionary\n",
    "def print_tree_depth_first(parent, dictionary, level=0):\n",
    "    print (level*'  ', parent)\n",
    "    children = dictionary[parent]\n",
    "    for child in children:\n",
    "        print_tree_depth_first(child, dictionary, level+1)\n",
    "\n",
    "root = 'Alice'\n",
    "print_tree_depth_first(root, family_tree)"
   ]
  },
  {
   "cell_type": "markdown",
   "metadata": {
    "collapsed": true
   },
   "source": [
    "## Question 1\n",
    "extend the breadth-first traversal to include the generation, so that the output is like below. Do this by storing a tuple with generation and node in the queue."
   ]
  },
  {
   "cell_type": "raw",
   "metadata": {},
   "source": [
    "1: Alice\n",
    "2: Carol Doug Bob\n",
    "3: ..."
   ]
  },
  {
   "cell_type": "code",
   "execution_count": 6,
   "metadata": {},
   "outputs": [
    {
     "name": "stdout",
     "output_type": "stream",
     "text": [
      "\n",
      "1 : Alice\n",
      "2 : Carol\t Doug\t Bob\n",
      "3 : Irene\t Peter\t Kathy\t Eve\t Luis\t Mabel\n",
      "4 : Tom\t Wanda\t Queen\t Frank\t Howard\t Ronald\t Zandra\t Ursala\n",
      "5 : Ginger\t Jeff\t Oprah\n",
      "6 : Norm\t Sarah\t Vince\t Xanthia\n",
      "7 : Yaakov"
     ]
    }
   ],
   "source": [
    "from collections import deque \n",
    "\n",
    "# breadth-first traversal using a queue\n",
    "def print_tree_breath_first(root, dictionary):\n",
    "    Q = deque()\n",
    "    generation = 1\n",
    "    former = 0\n",
    "    Q.append([root,generation])\n",
    "    level = []\n",
    "    while len(Q)>0:\n",
    "        p,g = Q.popleft()\n",
    "        if g == former:\n",
    "             print ('\\t',p, end='')\n",
    "        else:\n",
    "            print()\n",
    "            print (g, ':', p, end='')\n",
    "        former = g\n",
    "       \n",
    "        \n",
    "        children = dictionary[p]\n",
    "        g = g + 1\n",
    "        \n",
    "        for child in children:\n",
    "            Q.append([child,g])\n",
    "\n",
    "print_tree_breath_first(\"Alice\", family_tree)"
   ]
  },
  {
   "cell_type": "markdown",
   "metadata": {},
   "source": [
    "## Question 2\n",
    "Write a function that checks if for the given directed graph (given by a list of edges E) root is connected to every other vertex."
   ]
  },
  {
   "cell_type": "code",
   "execution_count": 7,
   "metadata": {
    "collapsed": true
   },
   "outputs": [],
   "source": [
    "\n",
    "    \n",
    "    \n",
    "def all_connected_to(E, root):\n",
    "    \"\"\" return true if you can reach all nodes in the graph given\n",
    "    by a list of edges E can be reached by root \"\"\"\n",
    "    \n",
    "    # start by constructing set of vertices and a dictionary for looking up children\n",
    "    vertices = set()\n",
    "    connected = {}\n",
    "    for u,v in E:\n",
    "        vertices.add(u)\n",
    "        vertices.add(v)\n",
    "        connected[u] = []\n",
    "        connected[v] = []\n",
    "   \n",
    "    for u,v in E:\n",
    "        connected[u].append(v)\n",
    "    for i in vertices:\n",
    "        Q = deque()\n",
    "        Q.append(root)\n",
    "        if i != root:\n",
    "            #print (i)\n",
    "            found = False\n",
    "            g =Q.popleft()\n",
    "            #print (i, len(Q),g)\n",
    "            children = connected[g]\n",
    "            if i in children:\n",
    "                found = True\n",
    "                break\n",
    "            else:\n",
    "                for n in children:\n",
    "                    Q.append(n) \n",
    "            while len(Q)>0:\n",
    "                g =Q.popleft()\n",
    "                if g == root:\n",
    "                    break\n",
    "                #print (i, len(Q),g)\n",
    "                children = connected[g]\n",
    "                if i in children:\n",
    "                    found = True\n",
    "                    break\n",
    "                else:\n",
    "                    for n in children:\n",
    "                        Q.append(n)\n",
    "            if found == False:\n",
    "                return False   \n",
    "    return True\n",
    "            \n",
    "        \n",
    "    "
   ]
  },
  {
   "cell_type": "code",
   "execution_count": 8,
   "metadata": {},
   "outputs": [
    {
     "name": "stdout",
     "output_type": "stream",
     "text": [
      "True\n",
      "False\n",
      "True\n",
      "True\n",
      "True\n"
     ]
    }
   ],
   "source": [
    "G = [(\"A\",\"B\"), (\"B\",\"C\")]\n",
    "print (all_connected_to(G, \"A\"))\n",
    "G2 = [(\"1\",\"2\"), (\"A\",\"B\"), (\"B\",\"C\"), (\"C\",\"A\")]\n",
    "print (all_connected_to(G2, \"A\"))\n",
    "print (all_connected_to(G2, \"1\"))\n",
    "G3 = [(\"A\",\"B\"), (\"B\",\"C\"), (\"C\",\"A\")]\n",
    "print (all_connected_to(G3, \"C\"))\n",
    "# and our graph from above?\n",
    "print (all_connected_to(T, \"Alice\"))"
   ]
  },
  {
   "cell_type": "markdown",
   "metadata": {},
   "source": [
    "## Question 3\n",
    "We now treat the the graph T from above as undirected (edges going in both directions) and construct a tree rooted in Bob. The tree will contain edges from a vertex to the parent and direct children. The result will tell us how far removed the vertices from our root Bob are."
   ]
  },
  {
   "cell_type": "code",
   "execution_count": 9,
   "metadata": {},
   "outputs": [
    {
     "name": "stdout",
     "output_type": "stream",
     "text": [
      "{'Norm': ['Yaakov'], 'Yaakov': [], 'Jeff': ['Vince'], 'Peter': ['Wanda'], 'Vince': [], 'Mabel': ['Ursala'], 'Ursala': [], 'Bob': ['Eve', 'Luis', 'Alice', 'Mabel'], 'Sarah': [], 'Ginger': ['Norm', 'Sarah'], 'Queen': [], 'Irene': ['Tom'], 'Zandra': [], 'Kathy': ['Queen'], 'Doug': ['Kathy'], 'Ronald': [], 'Howard': ['Oprah'], 'Frank': ['Ginger', 'Jeff'], 'Wanda': [], 'Luis': ['Ronald', 'Zandra'], 'Alice': ['Carol', 'Doug'], 'Xanthia': [], 'Oprah': ['Xanthia'], 'Carol': ['Irene', 'Peter'], 'Tom': [], 'Eve': ['Frank', 'Howard']}\n"
     ]
    }
   ],
   "source": [
    "root = 'Bob'\n",
    "\n",
    "family_dict = {}\n",
    "tree = {}\n",
    "visited = {}\n",
    "for vertex in vertices:\n",
    "    family_dict[vertex] = []\n",
    "    tree[vertex] = []\n",
    "    visited[vertex] = False\n",
    "for edge in T:\n",
    "    s,t = edge\n",
    "    family_dict[s].append(t)\n",
    "    family_dict[t].append(s)\n",
    "    \n",
    "#print (\"parents/children of Ginger:\",family_dict['Ginger'])\n",
    "#print (family_dict)\n",
    "\n",
    "Q = deque()\n",
    "Q.append(root)\n",
    "\n",
    "\n",
    "while len(Q)>0:\n",
    "    node = Q.popleft()\n",
    "    children = family_dict[node]\n",
    "    if not visited[node]:\n",
    "        visited[node] = True\n",
    "        for child in children:\n",
    "            if not visited[child]:\n",
    "                tree[node].append(child)\n",
    "                Q.append(child)\n",
    "\n",
    "print (tree)"
   ]
  },
  {
   "cell_type": "markdown",
   "metadata": {},
   "source": [
    "Execute the following two blocks to check your result:"
   ]
  },
  {
   "cell_type": "code",
   "execution_count": 10,
   "metadata": {},
   "outputs": [
    {
     "name": "stdout",
     "output_type": "stream",
     "text": [
      " Bob\n",
      "   Eve\n",
      "     Frank\n",
      "       Ginger\n",
      "         Norm\n",
      "           Yaakov\n",
      "         Sarah\n",
      "       Jeff\n",
      "         Vince\n",
      "     Howard\n",
      "       Oprah\n",
      "         Xanthia\n",
      "   Luis\n",
      "     Ronald\n",
      "     Zandra\n",
      "   Alice\n",
      "     Carol\n",
      "       Irene\n",
      "         Tom\n",
      "       Peter\n",
      "         Wanda\n",
      "     Doug\n",
      "       Kathy\n",
      "         Queen\n",
      "   Mabel\n",
      "     Ursala\n"
     ]
    }
   ],
   "source": [
    "print_tree_depth_first(root,tree)"
   ]
  },
  {
   "cell_type": "code",
   "execution_count": 11,
   "metadata": {},
   "outputs": [
    {
     "name": "stdout",
     "output_type": "stream",
     "text": [
      "\n",
      "1 : Bob\n",
      "2 : Eve\t Luis\t Alice\t Mabel\n",
      "3 : Frank\t Howard\t Ronald\t Zandra\t Carol\t Doug\t Ursala\n",
      "4 : Ginger\t Jeff\t Oprah\t Irene\t Peter\t Kathy\n",
      "5 : Norm\t Sarah\t Vince\t Xanthia\t Tom\t Wanda\t Queen\n",
      "6 : Yaakov"
     ]
    }
   ],
   "source": [
    "print_tree_breath_first(root,tree)"
   ]
  },
  {
   "cell_type": "markdown",
   "metadata": {},
   "source": [
    "## Question 4: n queens problem\n",
    "Backtracking is the technique of recursively exploring the tree that contains all the possible solutions to a problem. Choose a systematic way to explore all the possible cases. This approach should reflect a rooted tree, and the backtracking approach is a depth-first search of the rooted tree. Whenever the search has found a solution or determined that there are no further solutions on the branches below the current vertex, backtrack to the preceeding vertex. \n",
    "\n",
    "A classic example of a problem that can be easily solved with this approach is the n queens problem.  This problem is to determine all the possible ways to place n nonattacking queens on an n-by-n chess board. The following code provides two helpful routines for this problem and illustrates one of the solutions for the 4 queens problem."
   ]
  },
  {
   "cell_type": "code",
   "execution_count": 12,
   "metadata": {},
   "outputs": [
    {
     "name": "stdout",
     "output_type": "stream",
     "text": [
      "[[ 0.  0.  0.  0.]\n",
      " [ 0.  0.  0.  0.]\n",
      " [ 0.  0.  0.  0.]\n",
      " [ 0.  0.  0.  0.]]\n",
      "..Q.\n",
      "Q...\n",
      "...Q\n",
      ".Q..\n",
      "\n"
     ]
    }
   ],
   "source": [
    "import numpy as np\n",
    "\n",
    "def build_chessboard(N):\n",
    "    chessboard = np.zeros((N,N))\n",
    "    return chessboard\n",
    "\n",
    "def print_chessboard(chessboard):\n",
    "    N = len(chessboard)\n",
    "    for r in range(N):\n",
    "        for c in range(N):\n",
    "            if chessboard[r,c] == 1:\n",
    "                print ('Q', end=\"\")\n",
    "            else:\n",
    "                print ('.', end=\"\")\n",
    "        print ()\n",
    "    print ()\n",
    "\n",
    "# generate an empty 4x4 chessboard:\n",
    "chessboard = build_chessboard(4)\n",
    "print (chessboard)\n",
    "\n",
    "# Place 4 non-attacking queens on this board\n",
    "chessboard[1,0] = 1\n",
    "chessboard[3,1] = 1\n",
    "chessboard[0,2] = 1\n",
    "chessboard[2,3] = 1\n",
    "\n",
    "# Pretty print the resulting board\n",
    "print_chessboard(chessboard)"
   ]
  },
  {
   "cell_type": "markdown",
   "metadata": {},
   "source": [
    "Complete the following code to solve the n queens problem by returning the total number of solutions while printing only the first five solutions."
   ]
  },
  {
   "cell_type": "code",
   "execution_count": 13,
   "metadata": {},
   "outputs": [
    {
     "name": "stdout",
     "output_type": "stream",
     "text": [
      "Q....\n",
      "...Q.\n",
      ".Q...\n",
      "....Q\n",
      "..Q..\n",
      "\n",
      "Q....\n",
      "..Q..\n",
      "....Q\n",
      ".Q...\n",
      "...Q.\n",
      "\n",
      "..Q..\n",
      "Q....\n",
      "...Q.\n",
      ".Q...\n",
      "....Q\n",
      "\n",
      "...Q.\n",
      "Q....\n",
      "..Q..\n",
      "....Q\n",
      ".Q...\n",
      "\n",
      ".Q...\n",
      "...Q.\n",
      "Q....\n",
      "..Q..\n",
      "....Q\n",
      "\n",
      "solutions:  10\n"
     ]
    }
   ],
   "source": [
    "def n_queens(_chessboard, col=0, count=0):\n",
    "    \"\"\" given a partially filled <chessboard>, try to place a queen in column <col> and recursively fill the board.\n",
    "    Finally return the number of solutions (added to <count>)\"\"\"\n",
    "    N = len(_chessboard)\n",
    "    if col == N:\n",
    "        if count < 5:\n",
    "            print_chessboard(_chessboard)\n",
    "        count = count+1\n",
    "        return count \n",
    "    for i in range(N):\n",
    "        chessboard = _chessboard.copy()\n",
    "        if chessboard[i,col] == 0:\n",
    "            chessboard[i,col] = 1\n",
    "            for j in range(N):\n",
    "                if chessboard[j,col] != 1:\n",
    "                    chessboard[j,col] = -1\n",
    "                if chessboard[i,j] != 1:\n",
    "                    chessboard[i,j] = -1\n",
    "            r = i+1\n",
    "            c = col+1\n",
    "            while r < N and c < N:\n",
    "                if chessboard[r,c] != 1:\n",
    "                    chessboard[r,c] = -1\n",
    "                r=r+1 \n",
    "                c=c+1\n",
    "            r = i-1\n",
    "            c = col +1\n",
    "            while r >=0 and c < N:\n",
    "                if chessboard[r,c] != 1:\n",
    "                    chessboard[r,c] = -1\n",
    "                r=r-1 \n",
    "                c=c+1\n",
    "            #print()\n",
    "            #print(chessboard)\n",
    "            count = n_queens(chessboard, col = col+1, count = count)\n",
    "            \n",
    "    # Examine all available squares in column <col> (value is 0), place the queen, and \n",
    "    # mark all squares under attack by that queen (use anything except 0 or 1).\n",
    "    # Note: you can make a copy of a chessboard using chessboard.copy()\n",
    "    #\n",
    "    \n",
    "    # ????\n",
    "    \n",
    "    return count\n",
    "\n",
    "chessboard = build_chessboard(5)\n",
    "count = n_queens(chessboard)\n",
    "print (\"solutions: \", count)"
   ]
  },
  {
   "cell_type": "code",
   "execution_count": 14,
   "metadata": {},
   "outputs": [
    {
     "name": "stdout",
     "output_type": "stream",
     "text": [
      "....\n",
      "....\n",
      "....\n",
      "....\n",
      "\n",
      "Q...\n",
      "....\n",
      "....\n",
      "....\n",
      "\n",
      "....\n",
      "....\n",
      "....\n",
      "....\n",
      "\n"
     ]
    }
   ],
   "source": [
    "def test(cb):\n",
    "    cb[0,0]=1\n",
    "    print_chessboard(cb)\n",
    "    \n",
    "chessboard = build_chessboard(4)\n",
    "print_chessboard(chessboard)\n",
    "test(chessboard.copy())# try chessboard.copy() instead\n",
    "print_chessboard(chessboard)  # oooops!"
   ]
  },
  {
   "cell_type": "code",
   "execution_count": 15,
   "metadata": {},
   "outputs": [
    {
     "name": "stdout",
     "output_type": "stream",
     "text": [
      "1\n",
      "2\n",
      "1\n"
     ]
    }
   ],
   "source": [
    "def test(b):\n",
    "    b=b+1\n",
    "    print (b)\n",
    "    \n",
    "n = 1\n",
    "print (n)\n",
    "test(n)\n",
    "print (n)"
   ]
  },
  {
   "cell_type": "code",
   "execution_count": 16,
   "metadata": {},
   "outputs": [
    {
     "name": "stdout",
     "output_type": "stream",
     "text": [
      "[1, 2, 3]\n",
      "[1, 2, 3, 1]\n",
      "[1, 2, 3]\n",
      "[1, 2, 3, 1]\n",
      "[1, 2, 3, 1]\n"
     ]
    }
   ],
   "source": [
    "import copy\n",
    "def test(b):\n",
    "    b.append(1)\n",
    "    print (b)\n",
    "    \n",
    "n = [1,2,3]\n",
    "print (n)\n",
    "test(copy.copy(n)) \n",
    "print (n)\n",
    "test(n)\n",
    "print (n)"
   ]
  },
  {
   "cell_type": "code",
   "execution_count": 17,
   "metadata": {},
   "outputs": [
    {
     "data": {
      "text/plain": [
       "[]"
      ]
     },
     "execution_count": 17,
     "metadata": {},
     "output_type": "execute_result"
    }
   ],
   "source": [
    "import copy\n",
    "a=[]\n",
    "copy.deepcopy(a)"
   ]
  },
  {
   "cell_type": "code",
   "execution_count": 18,
   "metadata": {},
   "outputs": [
    {
     "name": "stdout",
     "output_type": "stream",
     "text": [
      "before: a= [2, 4, [6]]\n",
      "after: a= [2, 4, [7]]  b= [3, 4, [7]]  (using copy)\n",
      "after: a= [2, 4, [6]]  b= [3, 4, [7]]  (using deepcopy)\n"
     ]
    }
   ],
   "source": [
    "import copy\n",
    "\n",
    "# copy makes a copy of the outer-most object, but keeps the same references to the inner\n",
    "# object.\n",
    "a=[2,4,[6]]\n",
    "print (\"before: a=\", a)\n",
    "\n",
    "b=copy.copy(a)\n",
    "b[0]+=1\n",
    "b[2][0]+=1\n",
    "\n",
    "print (\"after: a=\",a,\" b=\", b, \" (using copy)\")\n",
    "\n",
    "# deepcopy also makes a copy of each contained element (recursively)\n",
    "a=[2,4,[6]]\n",
    "b=copy.deepcopy(a)\n",
    "b[0]+=1\n",
    "b[2][0]+=1\n",
    "print (\"after: a=\",a,\" b=\", b, \" (using deepcopy)\")\n"
   ]
  },
  {
   "cell_type": "code",
   "execution_count": null,
   "metadata": {
    "collapsed": true
   },
   "outputs": [],
   "source": []
  },
  {
   "cell_type": "code",
   "execution_count": null,
   "metadata": {
    "collapsed": true
   },
   "outputs": [],
   "source": []
  }
 ],
 "metadata": {
  "kernelspec": {
   "display_name": "Python 3",
   "language": "python",
   "name": "python3"
  },
  "language_info": {
   "codemirror_mode": {
    "name": "ipython",
    "version": 3
   },
   "file_extension": ".py",
   "mimetype": "text/x-python",
   "name": "python",
   "nbconvert_exporter": "python",
   "pygments_lexer": "ipython3",
   "version": "3.6.0"
  },
  "name": "HW05.ipynb"
 },
 "nbformat": 4,
 "nbformat_minor": 1
}
