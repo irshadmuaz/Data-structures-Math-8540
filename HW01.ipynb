{
 "cells": [
  {
   "cell_type": "markdown",
   "metadata": {},
   "source": [
    "# Homework 01\n",
    "\n",
    "Please fill in: Muaz Ahmad\n",
    "\n",
    "First, read chapter 3 and 4 in the python tutorial."
   ]
  },
  {
   "cell_type": "markdown",
   "metadata": {},
   "source": [
    "## Question 1\n",
    "Find out the format Python is using to store floating point numbers (IEEE? which one? Number of bits? Write your answer below) and do a computation that demonstrates this:\n",
    "    "
   ]
  },
  {
   "cell_type": "code",
   "execution_count": 2,
   "metadata": {},
   "outputs": [
    {
     "name": "stdout",
     "output_type": "stream",
     "text": [
      "1.0000000000000002\n"
     ]
    }
   ],
   "source": [
    "# format is known as: binary\n",
    "# number of bits 53\n",
    "print (1.0+2.0**(-52))"
   ]
  },
  {
   "cell_type": "markdown",
   "metadata": {},
   "source": [
    "## Question 2\n",
    "\n",
    "Write a function print_elements(l) that prints every element of the list l. If an element is a list by itself, recursively call print_elements() for this element instead. To find out if a variable x is a list, use type(x)."
   ]
  },
  {
   "cell_type": "code",
   "execution_count": 11,
   "metadata": {},
   "outputs": [
    {
     "name": "stdout",
     "output_type": "stream",
     "text": [
      "1\n",
      "hello\n",
      "3\n",
      "4\n",
      "5\n",
      "6\n",
      "1\n",
      "2\n",
      "3\n"
     ]
    }
   ],
   "source": [
    "def print_elements(l):\n",
    "    for i in l:\n",
    "        if isinstance(i,list):\n",
    "            print_elements(i)\n",
    "        else:\n",
    "            print (i);\n",
    "    \n",
    "    pass\n",
    "\n",
    "print_elements([[1,\"hello\"], 3, [4,5,6],[1,[2,[3]]]])"
   ]
  },
  {
   "cell_type": "markdown",
   "metadata": {},
   "source": [
    "## Question 3\n",
    "Write a function hey_ho() with arguments start and end that prints the numbers starting from start to end (inclusive) in a single line each. If the number is divisible by 3, print \"hey!\" instead of the number, if the number is divisible by 5 print \"ho!\". Finally, if it is divisible by both, print \"yay!\" instead.\n",
    "Example for hey_ho(7,16):"
   ]
  },
  {
   "cell_type": "raw",
   "metadata": {},
   "source": [
    "7\n",
    "8\n",
    "hey!\n",
    "ho!\n",
    "11\n",
    "hey!\n",
    "13\n",
    "14\n",
    "yay!\n",
    "16"
   ]
  },
  {
   "cell_type": "code",
   "execution_count": 16,
   "metadata": {},
   "outputs": [
    {
     "name": "stdout",
     "output_type": "stream",
     "text": [
      "1\n",
      "2\n",
      "hey!\n",
      "4\n",
      "ho!\n",
      "hey!\n",
      "7\n",
      "8\n",
      "hey!\n",
      "ho!\n"
     ]
    }
   ],
   "source": [
    "def hey_ho(start, end):\n",
    "    for num in range(start, end+1):\n",
    "        if num % 3 ==0 and num % 5 == 0:\n",
    "            print (\"yay!\")\n",
    "        elif num % 5 == 0:\n",
    "            print  (\"ho!\")\n",
    "        elif num % 3 == 0:\n",
    "            print (\"hey!\")\n",
    "        else:\n",
    "            print (num)\n",
    "    \n",
    "hey_ho(1,10)"
   ]
  },
  {
   "cell_type": "markdown",
   "metadata": {},
   "source": [
    "## Question 4\n",
    "\n",
    "Write a function odd_numbers(number_list) that returns a list with all odd numbers in the given list."
   ]
  },
  {
   "cell_type": "code",
   "execution_count": 1,
   "metadata": {},
   "outputs": [
    {
     "name": "stdout",
     "output_type": "stream",
     "text": [
      "[5, 1, 3, 107]\n"
     ]
    }
   ],
   "source": [
    "# define odd_numbers here\n",
    "def odd_numbers(all):\n",
    "    \n",
    "    for i in all:\n",
    "        if i % 2 == 0:\n",
    "            all.remove(i)\n",
    "    return all\n",
    "all = [5,1,2,3,100,107]\n",
    "odd = odd_numbers(all)\n",
    "print (odd)"
   ]
  },
  {
   "cell_type": "code",
   "execution_count": null,
   "metadata": {
    "collapsed": true
   },
   "outputs": [],
   "source": []
  }
 ],
 "metadata": {
  "kernelspec": {
   "display_name": "Python 3",
   "language": "python",
   "name": "python3"
  },
  "language_info": {
   "codemirror_mode": {
    "name": "ipython",
    "version": 3
   },
   "file_extension": ".py",
   "mimetype": "text/x-python",
   "name": "python",
   "nbconvert_exporter": "python",
   "pygments_lexer": "ipython3",
   "version": "3.6.0"
  }
 },
 "nbformat": 4,
 "nbformat_minor": 1
}
